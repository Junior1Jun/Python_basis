{
 "cells": [
  {
   "cell_type": "markdown",
   "id": "f272b7d2",
   "metadata": {},
   "source": [
    "## 7. 환율 변환기 \n",
    "- 맨 아래에서 1달러를 원화로 바꿨을 때 얼마나 나오는지 계산해봅니다. "
   ]
  },
  {
   "cell_type": "code",
   "execution_count": 6,
   "id": "57a5b02e",
   "metadata": {
    "scrolled": false
   },
   "outputs": [
    {
     "name": "stdout",
     "output_type": "stream",
     "text": [
      "Requirement already satisfied: currencyconverter in c:\\users\\user\\anaconda3\\lib\\site-packages (0.17.2)\n"
     ]
    }
   ],
   "source": [
    "# 환율 변환기 라이브러리인 currencyconverter를 설치 \n",
    "!pip install currencyconverter"
   ]
  },
  {
   "cell_type": "code",
   "execution_count": 7,
   "id": "9c4c9007",
   "metadata": {
    "scrolled": true
   },
   "outputs": [
    {
     "name": "stdout",
     "output_type": "stream",
     "text": [
      "{'PHP', 'HRK', 'INR', 'TRL', 'SEK', 'GBP', 'LTL', 'IDR', 'SIT', 'DKK', 'KRW', 'TRY', 'MYR', 'EEK', 'NZD', 'CNY', 'EUR', 'MTL', 'PLN', 'CZK', 'SGD', 'ILS', 'SKK', 'BRL', 'MXN', 'ZAR', 'USD', 'NOK', 'LVL', 'HUF', 'RON', 'THB', 'CHF', 'CYP', 'RUB', 'AUD', 'JPY', 'HKD', 'ISK', 'BGN', 'CAD', 'ROL'}\n"
     ]
    }
   ],
   "source": [
    "# currencyconverter 라이브러리를 import \n",
    "from currency_converter import CurrencyConverter\n",
    "\n",
    "\n",
    "# 환율 변환기 생성 \n",
    "cc = CurrencyConverter()\n",
    "\n",
    "# 환율 변환기에서 지원되는 통화단위들을 list형태로 출력해준다.\n",
    "print(cc.currencies)"
   ]
  },
  {
   "cell_type": "code",
   "execution_count": 13,
   "id": "aefe4b8d",
   "metadata": {
    "scrolled": true
   },
   "outputs": [
    {
     "name": "stdout",
     "output_type": "stream",
     "text": [
      "1412.1142052880266\n"
     ]
    }
   ],
   "source": [
    "# 최신 환율 정보로 업데이트함.\n",
    "cc1 = CurrencyConverter(\"http://www.ecb.europa.eu/stats/eurofxref/eurofxref.zip\")\n",
    "\n",
    "# 1달러를 대한민국 원화로 변경할 때 금액 출력\n",
    "print(cc1.convert(1,'USD','KRW'))"
   ]
  },
  {
   "cell_type": "markdown",
   "id": "73ccc587",
   "metadata": {},
   "source": [
    "### 에러 발생"
   ]
  },
  {
   "cell_type": "code",
   "execution_count": 14,
   "id": "878a2118",
   "metadata": {},
   "outputs": [
    {
     "ename": "ValueError",
     "evalue": "KR is not a supported currency",
     "output_type": "error",
     "traceback": [
      "\u001b[1;31m---------------------------------------------------------------------------\u001b[0m",
      "\u001b[1;31mValueError\u001b[0m                                Traceback (most recent call last)",
      "Input \u001b[1;32mIn [14]\u001b[0m, in \u001b[0;36m<cell line: 1>\u001b[1;34m()\u001b[0m\n\u001b[1;32m----> 1\u001b[0m \u001b[38;5;28mprint\u001b[39m(\u001b[43mcc1\u001b[49m\u001b[38;5;241;43m.\u001b[39;49m\u001b[43mconvert\u001b[49m\u001b[43m(\u001b[49m\u001b[38;5;241;43m1\u001b[39;49m\u001b[43m,\u001b[49m\u001b[38;5;124;43m'\u001b[39;49m\u001b[38;5;124;43mUSD\u001b[39;49m\u001b[38;5;124;43m'\u001b[39;49m\u001b[43m,\u001b[49m\u001b[38;5;124;43m'\u001b[39;49m\u001b[38;5;124;43mKR\u001b[39;49m\u001b[38;5;124;43m'\u001b[39;49m\u001b[43m)\u001b[49m)\n",
      "File \u001b[1;32m~\\anaconda3\\lib\\site-packages\\currency_converter\\currency_converter.py:353\u001b[0m, in \u001b[0;36mCurrencyConverter.convert\u001b[1;34m(self, amount, currency, new_currency, date)\u001b[0m\n\u001b[0;32m    351\u001b[0m \u001b[38;5;28;01mfor\u001b[39;00m c \u001b[38;5;129;01min\u001b[39;00m currency, new_currency:\n\u001b[0;32m    352\u001b[0m     \u001b[38;5;28;01mif\u001b[39;00m c \u001b[38;5;129;01mnot\u001b[39;00m \u001b[38;5;129;01min\u001b[39;00m \u001b[38;5;28mself\u001b[39m\u001b[38;5;241m.\u001b[39mcurrencies:\n\u001b[1;32m--> 353\u001b[0m         \u001b[38;5;28;01mraise\u001b[39;00m \u001b[38;5;167;01mValueError\u001b[39;00m(\u001b[38;5;124mf\u001b[39m\u001b[38;5;124m\"\u001b[39m\u001b[38;5;132;01m{\u001b[39;00mc\u001b[38;5;132;01m}\u001b[39;00m\u001b[38;5;124m is not a supported currency\u001b[39m\u001b[38;5;124m\"\u001b[39m)\n\u001b[0;32m    355\u001b[0m \u001b[38;5;28;01mif\u001b[39;00m date \u001b[38;5;129;01mis\u001b[39;00m \u001b[38;5;28;01mNone\u001b[39;00m:\n\u001b[0;32m    356\u001b[0m     date \u001b[38;5;241m=\u001b[39m \u001b[38;5;28mself\u001b[39m\u001b[38;5;241m.\u001b[39mbounds[currency]\u001b[38;5;241m.\u001b[39mlast_date\n",
      "\u001b[1;31mValueError\u001b[0m: KR is not a supported currency"
     ]
    }
   ],
   "source": [
    "# KR은 cc1에서 지원해주지 않는 화폐단위이기 때문에 cc1가 KR가 뭔지 인식하지 못해서 에러가 뜬다.\n",
    "# 에러 내용 : KR is not a supported currency\n",
    "print(cc1.convert(1,'USD','KR'))"
   ]
  }
 ],
 "metadata": {
  "kernelspec": {
   "display_name": "Python 3 (ipykernel)",
   "language": "python",
   "name": "python3"
  },
  "language_info": {
   "codemirror_mode": {
    "name": "ipython",
    "version": 3
   },
   "file_extension": ".py",
   "mimetype": "text/x-python",
   "name": "python",
   "nbconvert_exporter": "python",
   "pygments_lexer": "ipython3",
   "version": "3.9.12"
  }
 },
 "nbformat": 4,
 "nbformat_minor": 5
}
