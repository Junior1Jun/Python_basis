{
 "cells": [
  {
   "cell_type": "code",
   "execution_count": 2,
   "id": "b9a7f422",
   "metadata": {},
   "outputs": [
    {
     "name": "stderr",
     "output_type": "stream",
     "text": [
      "fatal: destination path 'Python-Regular-Expressions' already exists and is not an empty directory.\n"
     ]
    }
   ],
   "source": [
    "from module_test2 import add"
   ]
  },
  {
   "cell_type": "code",
   "execution_count": 3,
   "id": "773d0913",
   "metadata": {},
   "outputs": [
    {
     "data": {
      "text/plain": [
       "6"
      ]
     },
     "execution_count": 3,
     "metadata": {},
     "output_type": "execute_result"
    }
   ],
   "source": [
    "add(1,5)"
   ]
  },
  {
   "cell_type": "code",
   "execution_count": 4,
   "id": "0b7c1a32",
   "metadata": {},
   "outputs": [],
   "source": [
    "import numpy as np"
   ]
  },
  {
   "cell_type": "code",
   "execution_count": 5,
   "id": "f58cc828",
   "metadata": {},
   "outputs": [],
   "source": [
    "# 3차원 list형\n",
    "list1=[[[1,2],[3,4]],[[5,6],[7,8]]]"
   ]
  },
  {
   "cell_type": "code",
   "execution_count": 6,
   "id": "4b8d8563",
   "metadata": {
    "scrolled": true
   },
   "outputs": [
    {
     "data": {
      "text/plain": [
       "array([[[1, 2],\n",
       "        [3, 4]],\n",
       "\n",
       "       [[5, 6],\n",
       "        [7, 8]]])"
      ]
     },
     "execution_count": 6,
     "metadata": {},
     "output_type": "execute_result"
    }
   ],
   "source": [
    "arr=np.array(list1)\n",
    "arr"
   ]
  },
  {
   "cell_type": "code",
   "execution_count": 7,
   "id": "44a74737",
   "metadata": {},
   "outputs": [
    {
     "name": "stdout",
     "output_type": "stream",
     "text": [
      "8\n",
      "3\n",
      "(2, 2, 2)\n"
     ]
    }
   ],
   "source": [
    "print(arr.size)\n",
    "print(arr.ndim)\n",
    "print(arr.shape)"
   ]
  },
  {
   "cell_type": "code",
   "execution_count": 8,
   "id": "4a116d02",
   "metadata": {},
   "outputs": [
    {
     "data": {
      "text/plain": [
       "array([ 1,  2,  3,  4,  5,  6,  7,  8,  9, 10, 11, 12, 13, 14, 15, 16, 17,\n",
       "       18, 19, 20, 21, 22, 23, 24, 25, 26, 27, 28, 29, 30, 31, 32, 33, 34,\n",
       "       35, 36, 37, 38, 39, 40, 41, 42, 43, 44, 45, 46, 47, 48, 49, 50])"
      ]
     },
     "execution_count": 8,
     "metadata": {},
     "output_type": "execute_result"
    }
   ],
   "source": [
    "lists=[]\n",
    "for i in range(1,51):\n",
    "    lists.append(i)\n",
    "arr=np.array(lists)\n",
    "arr"
   ]
  },
  {
   "cell_type": "code",
   "execution_count": 9,
   "id": "1f7f8a29",
   "metadata": {},
   "outputs": [
    {
     "data": {
      "text/plain": [
       "array([ 1, 11, 21, 31, 41])"
      ]
     },
     "execution_count": 9,
     "metadata": {},
     "output_type": "execute_result"
    }
   ],
   "source": [
    "arr=np.arange(1,51,10) # 1이상\n",
    "arr"
   ]
  },
  {
   "cell_type": "code",
   "execution_count": 10,
   "id": "a49761f0",
   "metadata": {},
   "outputs": [
    {
     "data": {
      "text/plain": [
       "array([[0.12484192, 0.02768243, 0.38869572],\n",
       "       [0.41442339, 0.74857647, 0.35820939]])"
      ]
     },
     "execution_count": 10,
     "metadata": {},
     "output_type": "execute_result"
    }
   ],
   "source": [
    "arr=np.random.rand(2,3) #0이상 1미만의 실수를 랜덤하게 뽑음 >> rand(행,열)\n",
    "arr"
   ]
  },
  {
   "cell_type": "code",
   "execution_count": 11,
   "id": "bed6e4a9",
   "metadata": {},
   "outputs": [
    {
     "data": {
      "text/plain": [
       "array([[6, 8, 9],\n",
       "       [9, 8, 3]])"
      ]
     },
     "execution_count": 11,
     "metadata": {},
     "output_type": "execute_result"
    }
   ],
   "source": [
    "arr=np.random.randint(2,10,(2,3)) #2이상 10미만의 정수를 랜덤하게 뽑음 >> randint(행,열)\n",
    "arr"
   ]
  },
  {
   "cell_type": "code",
   "execution_count": 12,
   "id": "7d73ef76",
   "metadata": {},
   "outputs": [
    {
     "data": {
      "text/plain": [
       "5"
      ]
     },
     "execution_count": 12,
     "metadata": {},
     "output_type": "execute_result"
    }
   ],
   "source": [
    "arr=np.random.randint(2,10) #2이상 10미만의 정수를 랜덤하게 뽑음 >> randint(행,열)\n",
    "arr"
   ]
  },
  {
   "cell_type": "code",
   "execution_count": 13,
   "id": "e6a80ccc",
   "metadata": {},
   "outputs": [
    {
     "data": {
      "text/plain": [
       "array([1, 2, 3, 4])"
      ]
     },
     "execution_count": 13,
     "metadata": {},
     "output_type": "execute_result"
    }
   ],
   "source": [
    "arr_type=np.array([1.2,2.3,3.4,4.9999],dtype=np.int32) #정수 타입으로 출력\n",
    "arr_type"
   ]
  },
  {
   "cell_type": "code",
   "execution_count": 14,
   "id": "7f8980d4",
   "metadata": {},
   "outputs": [
    {
     "data": {
      "text/plain": [
       "array([1., 2., 3., 4.])"
      ]
     },
     "execution_count": 14,
     "metadata": {},
     "output_type": "execute_result"
    }
   ],
   "source": [
    "arr_type=arr_type.astype(\"float64\") #타입변경해주는 겁니다. 실수 타입으로 출력 . 큰따음표 필수입니다.\n",
    "arr_type"
   ]
  },
  {
   "cell_type": "code",
   "execution_count": 15,
   "id": "d5487f3e",
   "metadata": {},
   "outputs": [
    {
     "data": {
      "text/plain": [
       "array([2, 4, 6])"
      ]
     },
     "execution_count": 15,
     "metadata": {},
     "output_type": "execute_result"
    }
   ],
   "source": [
    "arr_a=np.array([1,2,3])\n",
    "arr_a+arr_a"
   ]
  },
  {
   "cell_type": "code",
   "execution_count": 16,
   "id": "403548a7",
   "metadata": {},
   "outputs": [
    {
     "data": {
      "text/plain": [
       "array([1, 4, 9])"
      ]
     },
     "execution_count": 16,
     "metadata": {},
     "output_type": "execute_result"
    }
   ],
   "source": [
    "arr_a*arr_a"
   ]
  },
  {
   "cell_type": "code",
   "execution_count": 17,
   "id": "2a86ebfa",
   "metadata": {},
   "outputs": [],
   "source": [
    "arr_b=np.array([4,5,6])"
   ]
  },
  {
   "cell_type": "code",
   "execution_count": 18,
   "id": "ad7f6819",
   "metadata": {},
   "outputs": [
    {
     "data": {
      "text/plain": [
       "array([[ 8, 10, 12],\n",
       "       [14, 16, 18]])"
      ]
     },
     "execution_count": 18,
     "metadata": {},
     "output_type": "execute_result"
    }
   ],
   "source": [
    "#2차원 배열\n",
    "arr2_a=np.array([[1,2,3],\n",
    "                [4,5,6]])\n",
    "\n",
    "arr2_b=np.array([[7,8,9],\n",
    "                [10,11,12]])\n",
    "\n",
    "arr2_a+arr2_b"
   ]
  },
  {
   "cell_type": "code",
   "execution_count": 19,
   "id": "5ca8d77b",
   "metadata": {
    "scrolled": true
   },
   "outputs": [
    {
     "data": {
      "text/plain": [
       "array([[-6, -6, -6],\n",
       "       [-6, -6, -6]])"
      ]
     },
     "execution_count": 19,
     "metadata": {},
     "output_type": "execute_result"
    }
   ],
   "source": [
    "arr2_a-arr2_b"
   ]
  },
  {
   "cell_type": "code",
   "execution_count": 20,
   "id": "de797efb",
   "metadata": {
    "scrolled": true
   },
   "outputs": [
    {
     "data": {
      "text/plain": [
       "array([[ 7, 16, 27],\n",
       "       [40, 55, 72]])"
      ]
     },
     "execution_count": 20,
     "metadata": {},
     "output_type": "execute_result"
    }
   ],
   "source": [
    "arr2_a*arr2_b"
   ]
  },
  {
   "cell_type": "code",
   "execution_count": 21,
   "id": "c35ee442",
   "metadata": {},
   "outputs": [
    {
     "data": {
      "text/plain": [
       "array([[4, 5, 6],\n",
       "       [7, 8, 9]])"
      ]
     },
     "execution_count": 21,
     "metadata": {},
     "output_type": "execute_result"
    }
   ],
   "source": [
    "arr2_a=np.array([[1,2,3],\n",
    "                [4,5,6]])\n",
    "arr2_a+3"
   ]
  },
  {
   "cell_type": "code",
   "execution_count": 22,
   "id": "c4033362",
   "metadata": {},
   "outputs": [
    {
     "data": {
      "text/plain": [
       "0"
      ]
     },
     "execution_count": 22,
     "metadata": {},
     "output_type": "execute_result"
    }
   ],
   "source": [
    "arr_1=np.array([0,1,2,3,4,5])\n",
    "arr_1[0]"
   ]
  },
  {
   "cell_type": "code",
   "execution_count": 23,
   "id": "5b22af3a",
   "metadata": {},
   "outputs": [
    {
     "name": "stdout",
     "output_type": "stream",
     "text": [
      "[1 2 3]\n"
     ]
    }
   ],
   "source": [
    "arr_2=np.array([[1,2,3],[4,5,6]])\n",
    "print(arr_2[0])"
   ]
  },
  {
   "cell_type": "code",
   "execution_count": 24,
   "id": "26a16c06",
   "metadata": {},
   "outputs": [
    {
     "name": "stdout",
     "output_type": "stream",
     "text": [
      "1\n"
     ]
    }
   ],
   "source": [
    "print(arr_2[0,0])"
   ]
  },
  {
   "cell_type": "code",
   "execution_count": 25,
   "id": "71159f05",
   "metadata": {},
   "outputs": [
    {
     "data": {
      "text/plain": [
       "array([ 0,  1,  2, 12, 12, 12, 12, 12,  8,  9])"
      ]
     },
     "execution_count": 25,
     "metadata": {},
     "output_type": "execute_result"
    }
   ],
   "source": [
    "arr1=np.arange(10)\n",
    "arr1[3:8]=12\n",
    "arr1"
   ]
  },
  {
   "cell_type": "code",
   "execution_count": 26,
   "id": "4ed21161",
   "metadata": {},
   "outputs": [
    {
     "data": {
      "text/plain": [
       "array([[ 0,  1,  2,  3,  4,  5,  6,  7,  8,  9],\n",
       "       [10, 11, 12, 13, 14, 15, 16, 17, 18, 19],\n",
       "       [20, 21, 22, 23, 24, 25, 26, 27, 28, 29],\n",
       "       [30, 31, 32, 33, 34, 35, 36, 37, 38, 39],\n",
       "       [40, 41, 42, 43, 44, 45, 46, 47, 48, 49]])"
      ]
     },
     "execution_count": 26,
     "metadata": {},
     "output_type": "execute_result"
    }
   ],
   "source": [
    "arr2=np.arange(50).reshape(5,10)\n",
    "arr2"
   ]
  },
  {
   "cell_type": "code",
   "execution_count": 27,
   "id": "cf632313",
   "metadata": {},
   "outputs": [
    {
     "data": {
      "text/plain": [
       "array([ 0, 10, 20, 30, 40])"
      ]
     },
     "execution_count": 27,
     "metadata": {},
     "output_type": "execute_result"
    }
   ],
   "source": [
    "arr2[:,0]"
   ]
  },
  {
   "cell_type": "code",
   "execution_count": 28,
   "id": "01cbfcda",
   "metadata": {},
   "outputs": [
    {
     "data": {
      "text/plain": [
       "array([[ 0,  1,  2,  3,  4],\n",
       "       [10, 11, 12, 13, 14],\n",
       "       [20, 21, 22, 23, 24],\n",
       "       [30, 31, 32, 33, 34]])"
      ]
     },
     "execution_count": 28,
     "metadata": {},
     "output_type": "execute_result"
    }
   ],
   "source": [
    "arr2[:4,:5]"
   ]
  },
  {
   "cell_type": "code",
   "execution_count": 29,
   "id": "21994c05",
   "metadata": {},
   "outputs": [
    {
     "data": {
      "text/plain": [
       "21"
      ]
     },
     "execution_count": 29,
     "metadata": {},
     "output_type": "execute_result"
    }
   ],
   "source": [
    "arr2[2,1]"
   ]
  },
  {
   "cell_type": "code",
   "execution_count": 30,
   "id": "255efd68",
   "metadata": {},
   "outputs": [
    {
     "data": {
      "text/plain": [
       "array([80, 75, 55, 96, 30])"
      ]
     },
     "execution_count": 30,
     "metadata": {},
     "output_type": "execute_result"
    }
   ],
   "source": [
    "score=np.array([80,75,55,96,30])\n",
    "score"
   ]
  },
  {
   "cell_type": "code",
   "execution_count": 31,
   "id": "68640ec9",
   "metadata": {},
   "outputs": [
    {
     "data": {
      "text/plain": [
       "array([ True, False, False,  True, False])"
      ]
     },
     "execution_count": 31,
     "metadata": {},
     "output_type": "execute_result"
    }
   ],
   "source": [
    "score>=80    # score 배열에서 80이상에만 True, 아니면 False를 붙여서 Boolean형 원소들을 가진 배열을 추출."
   ]
  },
  {
   "cell_type": "code",
   "execution_count": 32,
   "id": "cb7a258c",
   "metadata": {},
   "outputs": [
    {
     "data": {
      "text/plain": [
       "array([80, 96])"
      ]
     },
     "execution_count": 32,
     "metadata": {},
     "output_type": "execute_result"
    }
   ],
   "source": [
    "score[score>=80]  #위에 True, False, False,  True, False로 나와서 score에서 0번 3번째 원소만 출력"
   ]
  },
  {
   "cell_type": "code",
   "execution_count": 35,
   "id": "7a24ed79",
   "metadata": {},
   "outputs": [
    {
     "data": {
      "text/plain": [
       "array(['영화', '동원', '성우', '수민'], dtype='<U2')"
      ]
     },
     "execution_count": 35,
     "metadata": {},
     "output_type": "execute_result"
    }
   ],
   "source": [
    "name=np.array([\"영화\",\"동원\",\"성우\",\"수민\"])\n",
    "name"
   ]
  },
  {
   "cell_type": "code",
   "execution_count": 36,
   "id": "e5971710",
   "metadata": {},
   "outputs": [
    {
     "data": {
      "text/plain": [
       "array(['동원', '수민'], dtype='<U2')"
      ]
     },
     "execution_count": 36,
     "metadata": {},
     "output_type": "execute_result"
    }
   ],
   "source": [
    "bol=np.array([False,True,False,True])\n",
    "name[bol]"
   ]
  },
  {
   "cell_type": "code",
   "execution_count": 37,
   "id": "b0d1e4db",
   "metadata": {},
   "outputs": [
    {
     "data": {
      "text/plain": [
       "array([False, False, False, False])"
      ]
     },
     "execution_count": 37,
     "metadata": {},
     "output_type": "execute_result"
    }
   ],
   "source": [
    "name==\"운비\"  # 운비가 name 배열에 없어서 전부 False로 나오게 됨"
   ]
  },
  {
   "cell_type": "code",
   "execution_count": 127,
   "id": "a117bf4f",
   "metadata": {},
   "outputs": [
    {
     "data": {
      "text/plain": [
       "array([ True, False, False, False])"
      ]
     },
     "execution_count": 127,
     "metadata": {},
     "output_type": "execute_result"
    }
   ],
   "source": [
    " name==\"영화\" # 영화가 name 배열에 0번째 인덱스에 있어서 0번째만 True로 나오게 됨 "
   ]
  },
  {
   "cell_type": "code",
   "execution_count": 123,
   "id": "1461bca1",
   "metadata": {},
   "outputs": [
    {
     "data": {
      "text/plain": [
       "array([[60, 60],\n",
       "       [70, 70],\n",
       "       [80, 80],\n",
       "       [90, 90]])"
      ]
     },
     "execution_count": 123,
     "metadata": {},
     "output_type": "execute_result"
    }
   ],
   "source": [
    "score=np.array([[60,60],[70,70],[80,80],[90,90]])\n",
    "score"
   ]
  },
  {
   "cell_type": "code",
   "execution_count": 128,
   "id": "1b71c22a",
   "metadata": {},
   "outputs": [
    {
     "data": {
      "text/plain": [
       "array([[60, 60]])"
      ]
     },
     "execution_count": 128,
     "metadata": {},
     "output_type": "execute_result"
    }
   ],
   "source": [
    "score[ name==\"영화\"] #위에  True, False, False, False 로 나와 score의 0번째 원소출력"
   ]
  },
  {
   "cell_type": "markdown",
   "id": "9f60193b",
   "metadata": {},
   "source": [
    "# Universally Function"
   ]
  },
  {
   "cell_type": "code",
   "execution_count": 629,
   "id": "346ff1ef",
   "metadata": {},
   "outputs": [
    {
     "data": {
      "text/plain": [
       "array([[5, 8, 1, 5, 3],\n",
       "       [3, 6, 7, 5, 4]])"
      ]
     },
     "execution_count": 629,
     "metadata": {},
     "output_type": "execute_result"
    }
   ],
   "source": [
    "arr=np.random.randint(1,10,size=(2,5))\n",
    "arr"
   ]
  },
  {
   "cell_type": "code",
   "execution_count": 632,
   "id": "bd872dd0",
   "metadata": {},
   "outputs": [
    {
     "name": "stdout",
     "output_type": "stream",
     "text": [
      "47\n"
     ]
    }
   ],
   "source": [
    "print(np.sum(arr))  # arr에 있는 모든 원소의 합 >> arr.sum()에 소괄호 있어야 됨."
   ]
  },
  {
   "cell_type": "code",
   "execution_count": 633,
   "id": "376c132e",
   "metadata": {},
   "outputs": [
    {
     "name": "stdout",
     "output_type": "stream",
     "text": [
      "47\n"
     ]
    }
   ],
   "source": [
    "print(arr.sum()) #이렇게 해도 결과는 마찬가지"
   ]
  },
  {
   "cell_type": "code",
   "execution_count": 634,
   "id": "92eb993d",
   "metadata": {},
   "outputs": [
    {
     "name": "stdout",
     "output_type": "stream",
     "text": [
      "4.7\n",
      "4.7\n"
     ]
    }
   ],
   "source": [
    "print(np.mean(arr)) \n",
    "print(arr.mean())   # arr에 있는 모든 원소의 평균 >> arr.mean()에 소괄호 있어야 됨."
   ]
  },
  {
   "cell_type": "code",
   "execution_count": 636,
   "id": "c217553b",
   "metadata": {},
   "outputs": [
    {
     "data": {
      "text/plain": [
       "array([1.        , 1.41421356, 1.73205081, 2.        , 2.23606798])"
      ]
     },
     "execution_count": 636,
     "metadata": {},
     "output_type": "execute_result"
    }
   ],
   "source": [
    "arr=np.arange(1,6)  \n",
    "np.sqrt(arr)     # sqrt=squared root // arr의 각 원소에 대하여 root를 씌우고, 배열 출력"
   ]
  },
  {
   "cell_type": "code",
   "execution_count": 641,
   "id": "1ee608d5",
   "metadata": {},
   "outputs": [
    {
     "data": {
      "text/plain": [
       "array([1, 2, 3, 4, 5])"
      ]
     },
     "execution_count": 641,
     "metadata": {},
     "output_type": "execute_result"
    }
   ],
   "source": [
    "arr=np.array([-1,2,-3,4,-5])\n",
    "np.abs(arr)   #abs=절대값 구하기 // arr의 각 원소에 대하여 절댓값으로 변환한 다음, 배열 반환"
   ]
  },
  {
   "cell_type": "code",
   "execution_count": 644,
   "id": "9b6e7efd",
   "metadata": {},
   "outputs": [
    {
     "data": {
      "text/plain": [
       "array([ 1, 11])"
      ]
     },
     "execution_count": 644,
     "metadata": {},
     "output_type": "execute_result"
    }
   ],
   "source": [
    "arr2=np.arange(0,20).reshape(2,10)\n",
    "arr2[:,1]"
   ]
  },
  {
   "cell_type": "markdown",
   "id": "360221e8",
   "metadata": {},
   "source": [
    "# 예제 - 성적 처리하기"
   ]
  },
  {
   "cell_type": "code",
   "execution_count": 653,
   "id": "a97b8d12",
   "metadata": {},
   "outputs": [
    {
     "data": {
      "text/plain": [
       "[10, 20, 30, 70, 80, 100]"
      ]
     },
     "execution_count": 653,
     "metadata": {},
     "output_type": "execute_result"
    }
   ],
   "source": [
    "students=[\"A\",\"B\",\"C\"]\n",
    "mid=[10,20,30]\n",
    "final=[70,80,100]\n",
    "total=mid+final # 연산이 아닌, 단지 원소를 추가해 주는 것 뿐임\n",
    "total"
   ]
  },
  {
   "cell_type": "code",
   "execution_count": 655,
   "id": "7683a80e",
   "metadata": {},
   "outputs": [
    {
     "name": "stdout",
     "output_type": "stream",
     "text": [
      "[ 80 100 130]\n"
     ]
    }
   ],
   "source": [
    "mid_score=np.array(mid)  #mid와 final은 list입니다.\n",
    "final_score=np.array(final)\n",
    "total=mid_score+final_score #numpy로 바꿔주니, 드디어 더하기 연산을 하게됨.\n",
    "print(total) "
   ]
  },
  {
   "cell_type": "markdown",
   "id": "6c7bea0c",
   "metadata": {},
   "source": [
    "- 0에서부터 9까지 정수값을 가지는 array_a를 넘파이를 이용하여 출력해라"
   ]
  },
  {
   "cell_type": "code",
   "execution_count": 662,
   "id": "ab7b693e",
   "metadata": {
    "scrolled": true
   },
   "outputs": [
    {
     "data": {
      "text/plain": [
       "array([0, 1, 2, 3, 4, 5, 6, 7, 8, 9])"
      ]
     },
     "execution_count": 662,
     "metadata": {},
     "output_type": "execute_result"
    }
   ],
   "source": [
    "array_a=np.arange(0,10)\n",
    "array_a"
   ]
  },
  {
   "cell_type": "code",
   "execution_count": 659,
   "id": "9a5bcf23",
   "metadata": {},
   "outputs": [
    {
     "data": {
      "text/plain": [
       "array([0, 1, 2, 3, 4, 5, 6, 7, 8, 9])"
      ]
     },
     "execution_count": 659,
     "metadata": {},
     "output_type": "execute_result"
    }
   ],
   "source": [
    "array_b=np.array([i for i in range(0,10)])\n",
    "array_b"
   ]
  },
  {
   "cell_type": "code",
   "execution_count": 660,
   "id": "b3920ff1",
   "metadata": {},
   "outputs": [
    {
     "data": {
      "text/plain": [
       "array([0, 2, 4, 6, 8])"
      ]
     },
     "execution_count": 660,
     "metadata": {},
     "output_type": "execute_result"
    }
   ],
   "source": [
    "array_c=np.arange(0,10,2) # 0 이상 10 미만의 정수 값에서 짝수를 가지는 ndarray객체 만들기 \n",
    "array_c"
   ]
  },
  {
   "cell_type": "code",
   "execution_count": 666,
   "id": "326eb56b",
   "metadata": {},
   "outputs": [
    {
     "name": "stdout",
     "output_type": "stream",
     "text": [
      "(5,)\n",
      "1\n",
      "int32\n",
      "5\n"
     ]
    }
   ],
   "source": [
    "#array_c의 shape.ndim.dtype.size를 출력\n",
    "print(array_c.shape)\n",
    "print(array_c.ndim)\n",
    "print(array_c.dtype)\n",
    "print(array_c.size)"
   ]
  },
  {
   "cell_type": "code",
   "execution_count": 669,
   "id": "d8b6ce74",
   "metadata": {},
   "outputs": [
    {
     "name": "stdout",
     "output_type": "stream",
     "text": [
      "[520 550 530 600 500]\n",
      "[440 500 460 600 400]\n"
     ]
    }
   ],
   "source": [
    "#회사 매출이 올라서 전 직원의 월급을 100만원씩 올려줌\n",
    "#현재 5명 직원 월급 : 220,250,230,300,200\n",
    "\n",
    "salarys=np.array([220,250,230,300,200])\n",
    "print(salarys+300)\n",
    "print(salarys*2)"
   ]
  },
  {
   "cell_type": "code",
   "execution_count": 670,
   "id": "9623b824",
   "metadata": {
    "scrolled": true
   },
   "outputs": [
    {
     "name": "stdout",
     "output_type": "stream",
     "text": [
      "[[1 2 3]\n",
      " [4 5 6]\n",
      " [7 8 9]]\n"
     ]
    }
   ],
   "source": [
    "matrix_array=np.array([[1,2,3],[4,5,6],[7,8,9]])\n",
    "print(matrix_array)"
   ]
  },
  {
   "cell_type": "code",
   "execution_count": 675,
   "id": "26eccab5",
   "metadata": {
    "scrolled": true
   },
   "outputs": [
    {
     "name": "stdout",
     "output_type": "stream",
     "text": [
      "[[[1 2 3]\n",
      "  [4 5 6]\n",
      "  [7 8 9]]\n",
      "\n",
      " [[1 2 3]\n",
      "  [4 5 6]\n",
      "  [7 8 9]]]\n"
     ]
    }
   ],
   "source": [
    "matrix_array3=np.array([[[1,2,3],[4,5,6],[7,8,9]],[[1,2,3],[4,5,6],[7,8,9]]])\n",
    "print(matrix_array3)"
   ]
  },
  {
   "cell_type": "code",
   "execution_count": 5,
   "id": "93e9a582",
   "metadata": {},
   "outputs": [
    {
     "data": {
      "text/plain": [
       "array([False,  True, False,  True])"
      ]
     },
     "execution_count": 5,
     "metadata": {},
     "output_type": "execute_result"
    }
   ],
   "source": [
    "players=[[170,76.4],[183,86.2],[181,78.5],[176,80.1]]\n",
    "play_arr=np.array(players)\n",
    "# 선수들 중에서 몸무게 80이상인 사람만\n",
    "play_arr[ : , 1]>=80"
   ]
  },
  {
   "cell_type": "code",
   "execution_count": 683,
   "id": "3292ae94",
   "metadata": {},
   "outputs": [
    {
     "data": {
      "text/plain": [
       "array([[183. ,  86.2],\n",
       "       [176. ,  80.1]])"
      ]
     },
     "execution_count": 683,
     "metadata": {},
     "output_type": "execute_result"
    }
   ],
   "source": [
    "play80kg=play_arr[play_arr[ : , 1]>=80]\n",
    "play80kg"
   ]
  },
  {
   "cell_type": "code",
   "execution_count": 685,
   "id": "4119e1c4",
   "metadata": {},
   "outputs": [
    {
     "data": {
      "text/plain": [
       "array([[183. ,  86.2],\n",
       "       [181. ,  78.5]])"
      ]
     },
     "execution_count": 685,
     "metadata": {},
     "output_type": "execute_result"
    }
   ],
   "source": [
    "play180cm=play_arr[play_arr[ : , 0]>=180]\n",
    "play180cm            "
   ]
  },
  {
   "cell_type": "code",
   "execution_count": 14,
   "id": "0be0a7d9",
   "metadata": {},
   "outputs": [
    {
     "data": {
      "text/plain": [
       "array([1073600., 3513600., 4294400., 1366400., 1756800., 2928000.,\n",
       "       3318400., 3123200., 3513600., 4294400., 1366400., 1756800.,\n",
       "       2928000., 3318400., 3123200., 3513600., 4294400., 1366400.,\n",
       "       1756800., 3318400., 3220800., 2830400., 2732800., 3708800.,\n",
       "       1659200., 1366400., 2244800., 3806400., 3904000., 3416000.])"
      ]
     },
     "execution_count": 14,
     "metadata": {},
     "output_type": "execute_result"
    }
   ],
   "source": [
    "#(총 30개월) 30개의 원소를 가진 list  >> 엔화 단위의 금액들의 집합\n",
    "revenue_in_ven=[110000,360000,440000,140000,180000,300000,340000,320000,360000,440000,140000,180000,300000,340000,320000,360000,440000,140000,180000,340000,330000,290000,280000,380000,170000,140000,230000,390000,400000,350000]\n",
    "# 이 list를, numpy를 이용하여 엔화에서 원화로 바꾸기       >>   1엔=9.76원  \n",
    "yen_revenue_array=np.array(revenue_in_ven)\n",
    "won_revenue_array=yen_revenue_array*9.76\n",
    "won_revenue_array"
   ]
  },
  {
   "cell_type": "code",
   "execution_count": 15,
   "id": "3358ae6d",
   "metadata": {},
   "outputs": [
    {
     "data": {
      "text/plain": [
       "array([1561200, 1691300, 2081600, 1821400, 1951500, 2471900, 2732100,\n",
       "       3772900, 3642800, 3252500, 1561200, 1691300, 2081600, 1821400,\n",
       "       1951500, 2471900, 2732100, 3772900, 3642800, 3252500, 1561200,\n",
       "       1691300, 2081600, 1821400, 1951500, 2471900, 2732100, 3772900,\n",
       "       3642800, 3252500])"
      ]
     },
     "execution_count": 15,
     "metadata": {},
     "output_type": "execute_result"
    }
   ],
   "source": [
    "#(총 30개월) 30개의 원소를 가진 list  >> 달러 단위의 금액들의 집합\n",
    "revenue_in_dollar=[1200,1300,1600,1400,1500,1900,2100,2900,2800,2500,1200,1300,1600,1400,1500,1900,2100,2900,2800,2500,1200,1300,1600,1400,1500,1900,2100,2900,2800,2500]\n",
    "# 이 list를, numpy를 이용하여 달러에서 원화로 바꾸기       >>   1달러=1301원 \n",
    "dollar_array=np.array(revenue_in_dollar)\n",
    "won_array=dollar_array*1301\n",
    "won_array"
   ]
  },
  {
   "cell_type": "code",
   "execution_count": 16,
   "id": "9a3ce779",
   "metadata": {},
   "outputs": [
    {
     "data": {
      "text/plain": [
       "array([2634800., 5204900., 6376000., 3187800., 3708300., 5399900.,\n",
       "       6050500., 6896100., 7156400., 7546900., 2927600., 3448100.,\n",
       "       5009600., 5139800., 5074700., 5985500., 7026500., 5139300.,\n",
       "       5399600., 6570900., 4782000., 4521700., 4814400., 5530200.,\n",
       "       3610700., 3838300., 4976900., 7579300., 7546800., 6668500.])"
      ]
     },
     "execution_count": 16,
     "metadata": {},
     "output_type": "execute_result"
    }
   ],
   "source": [
    "# 엔화를 원화로 바꾼 array인 won_revenue_array과 \n",
    "# 달러를 원화로 바꾼 won_array를 사용해 매 달 총 매출을 원화로 보고\n",
    "total_array=won_revenue_array+won_array\n",
    "total_array"
   ]
  },
  {
   "cell_type": "code",
   "execution_count": 23,
   "id": "4c6aaa5b",
   "metadata": {},
   "outputs": [
    {
     "data": {
      "text/plain": [
       "array([110000, 140000, 180000, 140000, 180000, 140000, 180000, 170000,\n",
       "       140000])"
      ]
     },
     "execution_count": 23,
     "metadata": {},
     "output_type": "execute_result"
    }
   ],
   "source": [
    "#20만엔 이하의 매출이 단긴 numpy array를 출력.\n",
    "bad_days_revenue=yen_revenue_array[yen_revenue_array<=200000]\n",
    "bad_days_revenue"
   ]
  },
  {
   "cell_type": "code",
   "execution_count": 35,
   "id": "06e1add5",
   "metadata": {},
   "outputs": [
    {
     "name": "stdout",
     "output_type": "stream",
     "text": [
      "최댓값 : 31\n",
      "최솟값 : 5\n",
      "중앙값 : 13.5\n",
      "표준편차 : 8.496322733983215\n",
      "분산 : 72.1875\n",
      "각 절댓값 : [14  6 13 21 23 31  9  5]\n"
     ]
    }
   ],
   "source": [
    "array_1=np.array([14,6,13,21,23,31,9,5])\n",
    "print(\"최댓값 : \"+str(array_1.max()))\n",
    "print(\"최솟값 : \"+str(array_1.min()))\n",
    "print(\"중앙값 : \"+str(np.median(array_1)))\n",
    "print(\"표준편차 : \"+str(array_1.std()))\n",
    "print(\"분산 : \"+str(array_1.var()))\n",
    "print(\"각 절댓값 : \"+str(np.abs(array_1)))\n",
    "#최댓값 구하기 : max\n",
    "#최솟값 : min\n",
    "#중앙값 : median\n",
    "#표준편차 : std\n",
    "#분산 :var"
   ]
  }
 ],
 "metadata": {
  "kernelspec": {
   "display_name": "Python 3 (ipykernel)",
   "language": "python",
   "name": "python3"
  },
  "language_info": {
   "codemirror_mode": {
    "name": "ipython",
    "version": 3
   },
   "file_extension": ".py",
   "mimetype": "text/x-python",
   "name": "python",
   "nbconvert_exporter": "python",
   "pygments_lexer": "ipython3",
   "version": "3.9.12"
  }
 },
 "nbformat": 4,
 "nbformat_minor": 5
}
