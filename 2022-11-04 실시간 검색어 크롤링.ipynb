{
 "cells": [
  {
   "cell_type": "code",
   "execution_count": 2,
   "id": "4e620574",
   "metadata": {
    "scrolled": true
   },
   "outputs": [
    {
     "name": "stdout",
     "output_type": "stream",
     "text": [
      "Requirement already satisfied: webdriver-manager in c:\\users\\user\\anaconda3\\lib\\site-packages (3.8.3)\n",
      "Requirement already satisfied: tqdm in c:\\users\\user\\anaconda3\\lib\\site-packages (from webdriver-manager) (4.64.0)\n",
      "Requirement already satisfied: requests in c:\\users\\user\\anaconda3\\lib\\site-packages (from webdriver-manager) (2.27.1)\n",
      "Requirement already satisfied: python-dotenv in c:\\users\\user\\anaconda3\\lib\\site-packages (from webdriver-manager) (0.20.0)\n",
      "Requirement already satisfied: charset-normalizer~=2.0.0 in c:\\users\\user\\anaconda3\\lib\\site-packages (from requests->webdriver-manager) (2.0.4)\n",
      "Requirement already satisfied: idna<4,>=2.5 in c:\\users\\user\\anaconda3\\lib\\site-packages (from requests->webdriver-manager) (3.3)\n",
      "Requirement already satisfied: urllib3<1.27,>=1.21.1 in c:\\users\\user\\anaconda3\\lib\\site-packages (from requests->webdriver-manager) (1.26.9)\n",
      "Requirement already satisfied: certifi>=2017.4.17 in c:\\users\\user\\anaconda3\\lib\\site-packages (from requests->webdriver-manager) (2021.10.8)\n",
      "Requirement already satisfied: colorama in c:\\users\\user\\anaconda3\\lib\\site-packages (from tqdm->webdriver-manager) (0.4.4)\n"
     ]
    }
   ],
   "source": [
    "# webdriver - manager 라이브러리 설치\n",
    "# 웹 드라이버 파일을 다운로드 하게 해주는 라이브러리\n",
    "!pip install webdriver-manager"
   ]
  },
  {
   "cell_type": "code",
   "execution_count": 1,
   "id": "feda19a1",
   "metadata": {
    "scrolled": true
   },
   "outputs": [
    {
     "name": "stdout",
     "output_type": "stream",
     "text": [
      "Requirement already satisfied: selenium in c:\\users\\user\\anaconda3\\lib\\site-packages (3.141.0)\n",
      "Requirement already satisfied: urllib3 in c:\\users\\user\\anaconda3\\lib\\site-packages (from selenium) (1.26.9)\n"
     ]
    }
   ],
   "source": [
    "# selenium 라이브러리 설치\n",
    "# selenium은 웹 드라이버에 접속하여 웹 브라우저를 제어하는 라이브러리\n",
    "!pip install selenium "
   ]
  },
  {
   "cell_type": "code",
   "execution_count": 14,
   "id": "345a2d94",
   "metadata": {},
   "outputs": [],
   "source": [
    "# webdriver_manager.chrome은 webdriver_manager안에 있는 라이브러리 중,\n",
    "# 여러 크롬 드라이버들을 가지고 있는 라이브러리\n",
    "from webdriver_manager.chrome import ChromeDriverManager\n",
    "from selenium import webdriver"

    "from selenium.webdriver.common.by import By"
    "# By : 웹 크롤링을 할 때, 크롤링 대상 지정방법을 정해주는 모듈"
   ]
  },
  {
   "cell_type": "code",
   "execution_count": 17,
   "id": "8b28e251",
   "metadata": {},
   "outputs": [],
   "source": [
    "# webdriver모듈의 Chrome메서드는 크롬 브라우저 창을 띄우는 역할을 함.\n",
    "# ChromeDriverManager라이브러리의 install() 메서드를 사용하여 설치된 크롬드라이버를\n",
    "# Chrome메서드의 인수로 지정해줌.\n",
    "driver = webdriver.Chrome(ChromeDriverManager().install())"
   ]
  },
  {
   "cell_type": "code",
   "execution_count": 18,
   "id": "1de21112",
   "metadata": {},
   "outputs": [],
   "source": [
    "# driver의 get메서드는 인수 안에 지정된 웹페이지를 웹브라우저에 띄워주는 기능을 함.\n",
    "URL = 'https://signal.bz/news'\n",
    "driver.get(url = URL)"
   ]
  },
  {
   "cell_type": "code",
   "execution_count": 20,
   "id": "f49b9798",
   "metadata": {
    "scrolled": true
   },
   "outputs": [
    {
     "name": "stdout",
     "output_type": "stream",
     "text": [
      "1위 : 손흥민\n",
      "2위 : 작업 착수 구조함\n",
      "3위 : 미사일에 훈련 연장\n",
      "4위 : 합동분향소 찾은 대통령\n",
      "5위 : 서강대\n",
      "6위 : 류미진 총경\n",
      "7위 : 블랙핑크 지수 건강\n",
      "8위 : 이태원 사고 통합지원센터\n",
      "9위 : 니케\n",
      "10위 : 이재명\n"
     ]
    }
   ],
   "source": [
    "rank = 1\n",
    "for i in range(1,3):\n",
    "    for j in range(1,6):\n",
    "        results = driver.find_elements_by_css_selector(\n",
    "        '#app > div > main > div > section > div > section > section:nth-child(2) > div:nth-child(2) > div > div:nth-child({}) > div:nth-child({}) > a > span.rank-text'\n",
    "        .format(i,j))\n",
    "        result = results[0]\n",
    "        print(str(rank)+\"위 : \" + result.text)\n",
    "        rank += 1"
   ]
  },
  {
   "cell_type": "code",
   "execution_count": null,
   "id": "1eac2ec1",
   "metadata": {},
   "outputs": [],
   "source": [
    "#app > div > main > div > section > div > section > section:nth-child(2) > div:nth-child(2) > div > div:nth-child(1) > div:nth-child(1) > a > span.rank-text"
   ]
  },
  {
   "cell_type": "markdown",
   "id": "46745315",
   "metadata": {},
   "source": [
    "1위 element : #app > div > main > div > section > div > section > section:nth-child(2) > div:nth-child(2) > div > div:nth-child(1) > div:nth-child(1) > a > span.rank-text\n",
    "\n",
    "2위 element : #app > div > main > div > section > div > section > section:nth-child(2) > div:nth-child(2) > div > div:nth-child(1) > div:nth-child(2) > a > span.rank-text\n",
    "\n",
    "3위 element : #app > div > main > div > section > div > section > section:nth-child(2) > div:nth-child(2) > div > div:nth-child(1) > div:nth-child(3) > a > span.rank-text\n",
    "\n",
    "4위 element : #app > div > main > div > section > div > section > section:nth-child(2) > div:nth-child(2) > div > div:nth-child(1) > div:nth-child(4) > a > span.rank-text\n",
    "\n",
    "5위 element : #app > div > main > div > section > div > section > section:nth-child(2) > div:nth-child(2) > div > div:nth-child(1) > div:nth-child(5) > a > span.rank-text\n",
    "\n"
   ]
  },
  {
   "cell_type": "markdown",
   "id": "95b98380",
   "metadata": {},
   "source": [
    "6위 element : #app > div > main > div > section > div > section > section:nth-child(2) > div:nth-child(2) > div > div:nth-child(2) > div:nth-child(1) > a > span.rank-text\n",
    "\n",
    "7위 element : #app > div > main > div > section > div > section > section:nth-child(2) > div:nth-child(2) > div > div:nth-child(2) > div:nth-child(2) > a > span.rank-text\n",
    "\n",
    "8위 element : #app > div > main > div > section > div > section > section:nth-child(2) > div:nth-child(2) > div > div:nth-child(2) > div:nth-child(3) > a > span.rank-text\n",
    "\n",
    "9위 element : #app > div > main > div > section > div > section > section:nth-child(2) > div:nth-child(2) > div > div:nth-child(2) > div:nth-child(4) > a > span.rank-text\n",
    "\n",
    "10위 element : #app > div > main > div > section > div > section > section:nth-child(2) > div:nth-child(2) > div > div:nth-child(2) > div:nth-child(5) > a > span.rank-text"
   ]
  }
 ],
 "metadata": {
  "kernelspec": {
   "display_name": "Python 3 (ipykernel)",
   "language": "python",
   "name": "python3"
  },
  "language_info": {
   "codemirror_mode": {
    "name": "ipython",
    "version": 3
   },
   "file_extension": ".py",
   "mimetype": "text/x-python",
   "name": "python",
   "nbconvert_exporter": "python",
   "pygments_lexer": "ipython3",
   "version": "3.9.12"
  }
 },
 "nbformat": 4,
 "nbformat_minor": 5
}
