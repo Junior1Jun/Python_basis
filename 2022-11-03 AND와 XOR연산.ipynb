{
 "cells": [
  {
   "cell_type": "markdown",
   "id": "9dc06664",
   "metadata": {},
   "source": [
    "##  코딩으로 XOR문제 해결하기"
   ]
  },
  {
   "cell_type": "code",
   "execution_count": 2,
   "id": "85bab4fb",
   "metadata": {},
   "outputs": [],
   "source": [
    "import numpy as np\n",
    "\n",
    "w11 = np.array([-2,-2])  # w11와 w12   >>   NAND를 위한 가중치 지정  \n",
    "\n",
    "w12 = np.array([2,2])    # w21와 w22   >>   OR를 위한 가중치 지정  \n",
    "\n",
    "w2  = np.array([1,1])    # w31와 w32   >>   AND를 위한 가중치 지정  \n",
    "\n",
    "b1 = 3                   # NAND를 위한 가중치 지정\n",
    "\n",
    "b2 = -1                  # OR를 위한 가중치 지정\n",
    "\n",
    "b3 = -1                  # AND를 위한 가중치 지정"
   ]
  },
  {
   "cell_type": "markdown",
   "id": "4aa6a02d",
   "metadata": {},
   "source": [
    "\n",
    "\n",
    "w11 = np.array([-2,-2])와, w12 = np.array([2,2])를 곱하면 나오는 결과"
   ]
  },
  {
   "cell_type": "code",
   "execution_count": 3,
   "id": "a11bc9ff",
   "metadata": {
    "scrolled": true
   },
   "outputs": [
    {
     "data": {
      "text/plain": [
       "array([-4, -4])"
      ]
     },
     "execution_count": 3,
     "metadata": {},
     "output_type": "execute_result"
    }
   ],
   "source": [
    "w11*w12"
   ]
  },
  {
   "cell_type": "code",
   "execution_count": 4,
   "id": "c99e5d2a",
   "metadata": {},
   "outputs": [],
   "source": [
    "# 다음의 함수 MLP내의 지역변수 y는 시그모이드 함수에 대입될 인수값을 의미하므로,\n",
    "# 인수값이 0 이하이면 시그모이드 함수값은 0.5이므로 0으로 분류, 양수이면 함수값은 0.5보다 높으므로 1로 분류\n",
    "def MLP(x ,w ,b):\n",
    "    y = np.sum(w * x) + b\n",
    "    if y <= 0 :\n",
    "        return 0\n",
    "    else:\n",
    "        return 1"
   ]
  },
  {
   "cell_type": "markdown",
   "id": "776edec1",
   "metadata": {},
   "source": [
    "## NAND , OR는 입력층 >> 은닉층"
   ]
  },
  {
   "cell_type": "code",
   "execution_count": 6,
   "id": "cdc0edec",
   "metadata": {},
   "outputs": [],
   "source": [
    "# NAND 게이트\n",
    "def NAND(x1, x2):\n",
    "    return MLP(np.array([x1,x2]), w11, b1)\n",
    "\n",
    "# OR 게이트\n",
    "def OR(x1, x2):\n",
    "    return MLP(np.array([x1,x2]), w12, b2)\n",
    "\n",
    "# AND 게이트\n",
    "def AND(x1, x2):\n",
    "    return MLP(np.array([x1,x2]), w2, b3)"
   ]
  },
  {
   "cell_type": "code",
   "execution_count": null,
   "id": "2d0544a5",
   "metadata": {},
   "outputs": [],
   "source": []
  },
  {
   "cell_type": "markdown",
   "id": "2bf0a99d",
   "metadata": {},
   "source": [
    "## XOR는 은닉층 >> 출력층"
   ]
  },
  {
   "cell_type": "code",
   "execution_count": 5,
   "id": "d30ff171",
   "metadata": {},
   "outputs": [],
   "source": [
    "# XOR 게이트\n",
    "def XOR(x1, x2):\n",
    "    return AND(NAND(x1,x2),OR(x1,x2))"
   ]
  },
  {
   "cell_type": "code",
   "execution_count": 7,
   "id": "43f50655",
   "metadata": {},
   "outputs": [
    {
     "name": "stdout",
     "output_type": "stream",
     "text": [
      "입력 값: (0, 0) 출력 값: 0\n",
      "입력 값: (1, 0) 출력 값: 1\n",
      "입력 값: (0, 1) 출력 값: 1\n",
      "입력 값: (1, 1) 출력 값: 0\n"
     ]
    }
   ],
   "source": [
    "for x in [(0,0),(1,0),(0,1),(1,1)]:\n",
    "    y = XOR(x[0], x[1])\n",
    "    print(\"입력 값: \" + str(x) + \" 출력 값: \" + str(y))"
   ]
  }
 ],
 "metadata": {
  "kernelspec": {
   "display_name": "Python 3 (ipykernel)",
   "language": "python",
   "name": "python3"
  },
  "language_info": {
   "codemirror_mode": {
    "name": "ipython",
    "version": 3
   },
   "file_extension": ".py",
   "mimetype": "text/x-python",
   "name": "python",
   "nbconvert_exporter": "python",
   "pygments_lexer": "ipython3",
   "version": "3.9.12"
  }
 },
 "nbformat": 4,
 "nbformat_minor": 5
}
