{
 "cells": [
  {
   "cell_type": "markdown",
   "id": "9dc06664",
   "metadata": {},
   "source": [
    "##  코딩으로 XOR문제 해결하기"
   ]
  },
  {
   "cell_type": "code",
   "execution_count": 1,
   "id": "85bab4fb",
   "metadata": {},
   "outputs": [],
   "source": [
    "import numpy as np\n",
    "\n",
    "w11 = np.array([-2,-2])\n",
    "w12 = np.array([2,2])\n",
    "w2  = np.array([1,1])\n",
    "\n",
    "b1 = 3\n",
    "b2 = -1\n",
    "b3 = -1"
   ]
  },
  {
   "cell_type": "markdown",
   "id": "4aa6a02d",
   "metadata": {},
   "source": [
    "\n",
    "\n",
    "np.array([-2,-2])와 np.array([2,2])가 합쳐지면 나오는 결과"
   ]
  },
  {
   "cell_type": "code",
   "execution_count": 2,
   "id": "a11bc9ff",
   "metadata": {
    "scrolled": true
   },
   "outputs": [
    {
     "data": {
      "text/plain": [
       "array([[-2, -2],\n",
       "       [ 2,  2]])"
      ]
     },
     "execution_count": 2,
     "metadata": {},
     "output_type": "execute_result"
    }
   ],
   "source": [
    "np.array([w11,w12])"
   ]
  },
  {
   "cell_type": "code",
   "execution_count": 4,
   "id": "c99e5d2a",
   "metadata": {},
   "outputs": [],
   "source": [
    "def MLP(x ,w ,b):\n",
    "    y = np.sum(w * x) + b\n",
    "    if y <= 0 :\n",
    "        return 0\n",
    "    else:\n",
    "        return 1"
   ]
  },
  {
   "cell_type": "code",
   "execution_count": 6,
   "id": "cdc0edec",
   "metadata": {},
   "outputs": [],
   "source": [
    "# NAND 게이트\n",
    "def NAND(x1, x2):\n",
    "    return MLP(np.array([x1,x2]), w11, b1)\n",
    "\n",
    "# OR 게이트\n",
    "def OR(x1, x2):\n",
    "    return MLP(np.array([x1,x2]), w12, b2)\n",
    "\n",
    "# AND 게이트\n",
    "def AND(x1, x2):\n",
    "    return MLP(np.array([x1,x2]), w2, b3)\n",
    "\n",
    "# XOR 게이트\n",
    "def XOR(x1, x2):\n",
    "    return AND(NAND(x1,x2),OR(x1,x2))"
   ]
  },
  {
   "cell_type": "code",
   "execution_count": 7,
   "id": "43f50655",
   "metadata": {},
   "outputs": [
    {
     "name": "stdout",
     "output_type": "stream",
     "text": [
      "입력 값: (0, 0) 출력 값: 0\n",
      "입력 값: (1, 0) 출력 값: 1\n",
      "입력 값: (0, 1) 출력 값: 1\n",
      "입력 값: (1, 1) 출력 값: 0\n"
     ]
    }
   ],
   "source": [
    "for x in [(0,0),(1,0),(0,1),(1,1)]:\n",
    "    y = XOR(x[0], x[1])\n",
    "    print(\"입력 값: \" + str(x) + \" 출력 값: \" + str(y))"
   ]
  }
 ],
 "metadata": {
  "kernelspec": {
   "display_name": "Python 3 (ipykernel)",
   "language": "python",
   "name": "python3"
  },
  "language_info": {
   "codemirror_mode": {
    "name": "ipython",
    "version": 3
   },
   "file_extension": ".py",
   "mimetype": "text/x-python",
   "name": "python",
   "nbconvert_exporter": "python",
   "pygments_lexer": "ipython3",
   "version": "3.9.12"
  }
 },
 "nbformat": 4,
 "nbformat_minor": 5
}
