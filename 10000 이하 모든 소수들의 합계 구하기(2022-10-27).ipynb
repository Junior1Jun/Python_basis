{
 "cells": [
  {
   "cell_type": "code",
   "execution_count": null,
   "id": "ce0fb90e",
   "metadata": {},
   "outputs": [],
   "source": [
    "def sosu_sum(n):           #2이상의 자연수만 입력하세용^^.\n",
    "    summation=0\n",
    "    for i in range(2,n+1): # 2부터 n까지 검사해야 하기 때문에 range(2,n+1)을 씀.\n",
    "        if i==2:           # 2는 무조건 소수이므로, summation에 2를 무조건 더해줘야 함.\n",
    "            summation+=i   \n",
    "        else:              #여기서부터는 i가 2가 아닐때, 즉 3이상 n이하일때의 실행문이닷.\n",
    "            sosu=True     #소수일 때는 True, 아닐 때는 False로 바꾸어 준담.\n",
    "            for j in range(2,i):\n",
    "                if i%j==0:\n",
    "                    sosu=False  # 소수가 아닐때는 false로 바꾸어줘야.\n",
    "            if sosu==True:     #소수일 때는 True이므로 \n",
    "                summation+=i                \n",
    "    return summation                    \n",
    "            \n",
    "print(sosu_sum(10000))"
   ]
  }
 ],
 "metadata": {
  "kernelspec": {
   "display_name": "Python 3 (ipykernel)",
   "language": "python",
   "name": "python3"
  },
  "language_info": {
   "codemirror_mode": {
    "name": "ipython",
    "version": 3
   },
   "file_extension": ".py",
   "mimetype": "text/x-python",
   "name": "python",
   "nbconvert_exporter": "python",
   "pygments_lexer": "ipython3",
   "version": "3.9.12"
  }
 },
 "nbformat": 4,
 "nbformat_minor": 5
}
