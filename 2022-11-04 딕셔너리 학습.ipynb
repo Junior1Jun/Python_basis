{
 "cells": [
  {
   "cell_type": "code",
   "execution_count": 1,
   "id": "b84a491b",
   "metadata": {},
   "outputs": [
    {
     "data": {
      "text/plain": [
       "dict"
      ]
     },
     "execution_count": 1,
     "metadata": {},
     "output_type": "execute_result"
    }
   ],
   "source": [
    "# 중괄호를 사용하여 어떤 변수에 저장하면, 그 변수의 타입은 dictionary임.\n",
    "d={}\n",
    "type(d)"
   ]
  },
  {
   "cell_type": "code",
   "execution_count": 2,
   "id": "0e6d37bc",
   "metadata": {},
   "outputs": [
    {
     "data": {
      "text/plain": [
       "dict"
      ]
     },
     "execution_count": 2,
     "metadata": {},
     "output_type": "execute_result"
    }
   ],
   "source": [
    "# CSB라는 Dict 변수에 KEY값을 이름과 성별, Value값을 [\"홍길동\",\"김철수\",\"박영희\",\"바둑이\"],[\"남성\",\"남성\",\"여성\",\"남성\"]로 두었음.\n",
    "CSB={\"이름\":[\"홍길동\",\"김철수\",\"박영희\",\"바둑이\"],\"성별\":[\"남성\",\"남성\",\"여성\",\"남성\"]}\n",
    "type(CSB)"
   ]
  },
  {
   "cell_type": "code",
   "execution_count": 3,
   "id": "be1cefce",
   "metadata": {},
   "outputs": [],
   "source": [
    "# 이거는 딕셔너리에 key와 value를 추가하는 것이고 //  key와 value를 삭제하는 방법은 del 또는 pop사용\n",
    "# CDB 딕셔너리에 \"점수\"라는 KEY값을 새로 생성하고, 이에 대응되는 value값을 [100,100,100,100]로 지정\n",
    "CSB[\"점수\"]=[100,100,100,100]  "
   ]
  },
  {
   "cell_type": "code",
   "execution_count": 4,
   "id": "41ed7a32",
   "metadata": {},
   "outputs": [
    {
     "data": {
      "text/plain": [
       "dict_keys(['이름', '성별', '점수'])"
      ]
     },
     "execution_count": 4,
     "metadata": {},
     "output_type": "execute_result"
    }
   ],
   "source": [
    "CSB.keys()"
   ]
  },
  {
   "cell_type": "code",
   "execution_count": 22,
   "id": "a8e6ed7d",
   "metadata": {},
   "outputs": [
    {
     "name": "stdout",
     "output_type": "stream",
     "text": [
      "이름\n",
      "['홍길동', '김철수', '박영희', '바둑이']\n",
      "\n",
      "\n",
      "성별\n",
      "['남성', '남성', '여성', '남성']\n",
      "\n",
      "\n",
      "점수\n",
      "[100, 100, 100, 100]\n",
      "\n",
      "\n"
     ]
    }
   ],
   "source": [
    "for i in CSB.keys():\n",
    "    print(i)\n",
    "    print(CSB[i])\n",
    "    print(\"\\n\")"
   ]
  },
  {
   "cell_type": "code",
   "execution_count": 23,
   "id": "934f9e10",
   "metadata": {
    "scrolled": true
   },
   "outputs": [
    {
     "name": "stdout",
     "output_type": "stream",
     "text": [
      "['이름', '성별', '점수']\n",
      "[['홍길동', '김철수', '박영희', '바둑이'], ['남성', '남성', '여성', '남성'], [100, 100, 100, 100]]\n"
     ]
    }
   ],
   "source": [
    "print(list(CSB.keys()))\n",
    "print(list(CSB.values()))"
   ]
  },
  {
   "cell_type": "code",
   "execution_count": 26,
   "id": "9199113e",
   "metadata": {
    "scrolled": false
   },
   "outputs": [
    {
     "name": "stdout",
     "output_type": "stream",
     "text": [
      "이름 : ['홍길동', '김철수', '박영희', '바둑이']\n",
      "성별 : ['남성', '남성', '여성', '남성']\n",
      "점수 : [100, 100, 100, 100]\n"
     ]
    }
   ],
   "source": [
    "for key,value in CSB.items():\n",
    "    print(key+\" : \"+str(value))"
   ]
  },
  {
   "cell_type": "markdown",
   "id": "9edb58d3",
   "metadata": {},
   "source": [
    "### 각 과목의 평균 점수를 구하여 Dict에 추가해주세요."
   ]
  },
  {
   "cell_type": "code",
   "execution_count": 28,
   "id": "7c5df586",
   "metadata": {},
   "outputs": [
    {
     "data": {
      "text/plain": [
       "{'홍길동': {'수학': 99, '영어': 80, '국어': 75},\n",
       " '김미정': {'영어': 67, '국어': 87, '수학': 55},\n",
       " '정수진': {'수학': 67, '국어': 41, '영어': 75},\n",
       " '국어평균': 67.66666666666667,\n",
       " '영어평균': 74.0,\n",
       " '수학평균': 73.66666666666667}"
      ]
     },
     "execution_count": 28,
     "metadata": {},
     "output_type": "execute_result"
    }
   ],
   "source": [
    "score={\"홍길동\":{\"수학\":99,\"영어\":80,\"국어\":75},\n",
    "       \"김미정\":{\"영어\":67,\"국어\":87,\"수학\":55},\n",
    "       \"정수진\":{\"수학\":67,\"국어\":41,\"영어\":75}}\n",
    "kor=0\n",
    "eng=0\n",
    "mat=0\n",
    "\n",
    "for value1 in score.values():\n",
    "    kor+=value1[\"국어\"]\n",
    "    eng+=value1[\"영어\"]\n",
    "    mat+=value1[\"수학\"]\n",
    "    \n",
    "score[\"국어평균\"]=kor/3\n",
    "score[\"영어평균\"]=eng/3\n",
    "score[\"수학평균\"]=mat/3\n",
    "\n",
    "score"
   ]
  },
  {
   "cell_type": "code",
   "execution_count": 29,
   "id": "57d5a4c8",
   "metadata": {},
   "outputs": [
    {
     "data": {
      "text/plain": [
       "{'홍길동': {'수학': 99, '영어': 80, '국어': 75},\n",
       " '김미정': {'영어': 67, '국어': 87, '수학': 55},\n",
       " '정수진': {'수학': 67, '국어': 41, '영어': 75},\n",
       " '평균': {'국어': 67.66666666666667, '수학': 73.66666666666667, '영어': 74.0}}"
      ]
     },
     "execution_count": 29,
     "metadata": {},
     "output_type": "execute_result"
    }
   ],
   "source": [
    "score={\"홍길동\":{\"수학\":99,\"영어\":80,\"국어\":75},\n",
    "       \"김미정\":{\"영어\":67,\"국어\":87,\"수학\":55},\n",
    "       \"정수진\":{\"수학\":67,\"국어\":41,\"영어\":75}}\n",
    "\n",
    "kor=[]\n",
    "eng=[]\n",
    "mat=[]\n",
    "\n",
    "for value1 in score.values():\n",
    "    kor.append(value1[\"국어\"])\n",
    "    eng.append(value1[\"영어\"])\n",
    "    mat.append(value1[\"수학\"])\n",
    "\n",
    "score[\"평균\"]={\"국어\":sum(kor)/len(kor),\"수학\":sum(mat)/len(mat),\"영어\":sum(eng)/len(eng)}\n",
    "score"
   ]
  }
 ],
 "metadata": {
  "kernelspec": {
   "display_name": "Python 3 (ipykernel)",
   "language": "python",
   "name": "python3"
  },
  "language_info": {
   "codemirror_mode": {
    "name": "ipython",
    "version": 3
   },
   "file_extension": ".py",
   "mimetype": "text/x-python",
   "name": "python",
   "nbconvert_exporter": "python",
   "pygments_lexer": "ipython3",
   "version": "3.9.12"
  }
 },
 "nbformat": 4,
 "nbformat_minor": 5
}
