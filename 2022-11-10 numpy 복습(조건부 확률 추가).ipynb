{
 "cells": [
  {
   "cell_type": "code",
   "execution_count": 1,
   "id": "2806f6b1",
   "metadata": {},
   "outputs": [],
   "source": [
    "import numpy as np"
   ]
  },
  {
   "cell_type": "code",
   "execution_count": 3,
   "id": "98f46801",
   "metadata": {},
   "outputs": [
    {
     "data": {
      "text/plain": [
       "array([[-0.0800234 ,  0.1693592 ,  1.70583813,  0.60923115],\n",
       "       [ 0.44627519,  0.77003451, -0.09015255, -1.65040663],\n",
       "       [-0.20784496,  0.06775839,  0.66439436, -1.48821024]])"
      ]
     },
     "execution_count": 3,
     "metadata": {},
     "output_type": "execute_result"
    }
   ],
   "source": [
    "x=np.random.randn(3,4)\n",
    "x\n",
    "# 표준정규분포로부터 발생한 난수 3 x 4개 만들어서 3행 4열의 array형태로 출력"
   ]
  },
  {
   "cell_type": "code",
   "execution_count": 4,
   "id": "c0a8f54a",
   "metadata": {},
   "outputs": [
    {
     "data": {
      "text/plain": [
       "array([[ 1.        , -0.29476064,  0.38792833],\n",
       "       [-0.29476064,  1.        ,  0.76283631],\n",
       "       [ 0.38792833,  0.76283631,  1.        ]])"
      ]
     },
     "execution_count": 4,
     "metadata": {},
     "output_type": "execute_result"
    }
   ],
   "source": [
    "y=np.corrcoef(x)\n",
    "y\n",
    "# 1행과 1행간 상관계수 // 1행과 2행간 상관계수 // 1행과 3행간 상관계수\n",
    "# 2행과 1행간 상관계수 // 2행과 2행간 상관계수 // 2행과 3행간 상관계수\n",
    "# 3행과 1행간 상관계수 // 3행과 2행간 상관계수 // 3행과 3행간 상관계수"
   ]
  },
  {
   "cell_type": "code",
   "execution_count": 8,
   "id": "05d671a0",
   "metadata": {},
   "outputs": [
    {
     "name": "stdout",
     "output_type": "stream",
     "text": [
      "[0.34669914 0.37954475 0.9018064  1.2603922 ]\n",
      "[0.68389357 0.92943193 0.78608258]\n"
     ]
    }
   ],
   "source": [
    "print(np.std(x,0,ddof=1))\n",
    "# np.std의 두번째 인수에 0 즉, 열을 따라 표준편차를 계산하였음.\n",
    "# 자유도가 n - 1 (ddof = 1로 하였으므로)이라는 점을 고려하여 표준편차 계산\n",
    "print(np.std(x,1))\n",
    "# 표준편차 계산 두번째 인수에 1 즉, 행을 따라 표준편차를 계산하였음."
   ]
  },
  {
   "cell_type": "code",
   "execution_count": 9,
   "id": "b4e42f1b",
   "metadata": {},
   "outputs": [],
   "source": [
    "def d_mean(v):\n",
    "    means=sum(v)/len(v)\n",
    "    return [i-means for i in v]\n",
    "# v안의 각 요소에 대하여 편차를 계산하여 리스트 형태로 반환\n",
    "\n",
    "def dot(v,w):\n",
    "    return sum(v_i * w_i for v_i,w_i in zip(v,w))\n",
    "# v, w 리스트(벡터)에 대하여 내적을 반환\n",
    "\n",
    "def sum_of_square(v):\n",
    "    return dot(v,v)\n",
    "# v 안의 각 요소들에 대하여 제곱합을 반환\n",
    "\n",
    "def variance(v):\n",
    "    return sum_of_square(d_mean(v))/len(v)\n",
    "# v 안의 요소들에 대하여 분산을 계산\n",
    "\n",
    "import math  \n",
    "\n",
    "def stand_deviation(v):\n",
    "    return math.sqrt(variance(v))\n",
    "# v 안의 요소들에 대하여 표준편차를 계산\n",
    "\n",
    "def covariance (v,w):\n",
    "    return dot(d_mean(v),d_mean(w))/len(v)  \n",
    "# 벡터 v와 w에 대하여 공분산을 계산"
   ]
  },
  {
   "cell_type": "code",
   "execution_count": 10,
   "id": "9937aac2",
   "metadata": {},
   "outputs": [
    {
     "name": "stdout",
     "output_type": "stream",
     "text": [
      "-0.1873594458235168\n",
      "0.557336024886465\n",
      "0.20854903813674366\n"
     ]
    }
   ],
   "source": [
    "print(covariance (x[0],x[1]))\n",
    "print(covariance (x[2],x[1]))\n",
    "print(covariance (x[0],x[2]))"
   ]
  },
  {
   "cell_type": "markdown",
   "id": "2c234f56",
   "metadata": {},
   "source": [
    "## 조건부 확률 구하기 \n",
    "- 두 명의 자식 중, 적어도 한 명이상이 오전에 태어난 딸일 때, 둘 다 딸일 조건부 확률 구하기"
   ]
  },
  {
   "cell_type": "code",
   "execution_count": 12,
   "id": "05899b9a",
   "metadata": {},
   "outputs": [
    {
     "name": "stdout",
     "output_type": "stream",
     "text": [
      "4481\n",
      "1922\n",
      "0.42892211559919663\n"
     ]
    }
   ],
   "source": [
    "import random\n",
    "def random_kid():\n",
    "    return [random.choice([\"오전\",\"오후\"]),random.choice([\"남자\",\"여자\"])]\n",
    "\n",
    "event1,event2=0,0 # event1은 둘 중 한명 이상이 오전에 태어난 딸인 사건, event2는 둘다 딸이고 event1을 만족하는 사건.\n",
    "\n",
    "for _ in range(10000):\n",
    "    younger=random_kid()\n",
    "    older=random_kid() \n",
    "    if (younger[0]=='오전'and younger[1]=='여자') or (older[0]=='오전'and older[1]=='여자'):\n",
    "        event1+=1\n",
    "        if younger[1]=='여자' and older[1]=='여자':\n",
    "            event2+=1\n",
    "\n",
    "print(event1)\n",
    "print(event2)\n",
    "print(event2/event1)"
   ]
  },
  {
   "cell_type": "code",
   "execution_count": null,
   "id": "92eeb55e",
   "metadata": {},
   "outputs": [],
   "source": []
  },
  {
   "cell_type": "code",
   "execution_count": 13,
   "id": "e95942e6",
   "metadata": {},
   "outputs": [
    {
     "name": "stdout",
     "output_type": "stream",
     "text": [
      "0.09034543844109831\n"
     ]
    }
   ],
   "source": [
    "# 병에 걸릴 확률 : 0.001 >> 0.1 %\n",
    "def random_disease():\n",
    "    if random.choice(range(1000))==0: return \"disease\"\n",
    "    else: return \"healthy\"\n",
    "\n",
    "# 진단을 잘 못 했을 확률 : 0.01 >> 1 %    \n",
    "def random_test():\n",
    "    if random.choice(range(100))==0: return \"wrong\"\n",
    "    else: return \"right\"\n",
    "\n",
    "pos_and_disease=0\n",
    "pos_and_NoDisease=0\n",
    "\n",
    "for _ in range(100000):\n",
    "    dis=random_disease()\n",
    "    tes=random_test()\n",
    "    if dis==\"disease\" and tes==\"right\":\n",
    "        pos_and_disease+=1\n",
    "    elif dis==\"healthy\" and tes==\"wrong\":\n",
    "        pos_and_NoDisease+=1\n",
    "\n",
    "# 양성 판정 받았을 때, 그 사람이 실제로 병에 걸려있을 확률\n",
    "PDT=pos_and_disease/(pos_and_disease+pos_and_NoDisease)\n",
    "print(PDT)"
   ]
  }
 ],
 "metadata": {
  "kernelspec": {
   "display_name": "Python 3 (ipykernel)",
   "language": "python",
   "name": "python3"
  },
  "language_info": {
   "codemirror_mode": {
    "name": "ipython",
    "version": 3
   },
   "file_extension": ".py",
   "mimetype": "text/x-python",
   "name": "python",
   "nbconvert_exporter": "python",
   "pygments_lexer": "ipython3",
   "version": "3.9.13"
  }
 },
 "nbformat": 4,
 "nbformat_minor": 5
}
