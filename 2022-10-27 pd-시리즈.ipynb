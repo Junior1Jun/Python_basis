{
 "cells": [
  {
   "cell_type": "code",
   "execution_count": 2,
   "id": "c4669966",
   "metadata": {},
   "outputs": [],
   "source": [
    "import pandas as pd   #pandas = panel datas\n",
    "import numpy as np"
   ]
  },
  {
   "cell_type": "code",
   "execution_count": 21,
   "id": "7dcdfdf8",
   "metadata": {},
   "outputs": [
    {
     "data": {
      "text/plain": [
       "서울    9668465\n",
       "부산    3391946\n",
       "인천    2942828\n",
       "광주    1450062\n",
       "dtype: int64"
      ]
     },
     "execution_count": 21,
     "metadata": {},
     "output_type": "execute_result"
    }
   ],
   "source": [
    "# pandas를 이용해 Series 생성\n",
    "population=pd.Series([9668465,3391946,2942828,1450062],index=['서울','부산','인천','광주'])\n",
    "population"
   ]
  },
  {
   "cell_type": "code",
   "execution_count": 5,
   "id": "e0f1594e",
   "metadata": {},
   "outputs": [
    {
     "data": {
      "text/plain": [
       "array([9668465, 3391946, 2942828, 1450062], dtype=int64)"
      ]
     },
     "execution_count": 5,
     "metadata": {},
     "output_type": "execute_result"
    }
   ],
   "source": [
    "# Series값 확인\n",
    "population.values"
   ]
  },
  {
   "cell_type": "code",
   "execution_count": 6,
   "id": "d36a5fbb",
   "metadata": {},
   "outputs": [
    {
     "data": {
      "text/plain": [
       "Index(['서울', '부산', '인천', '광주'], dtype='object')"
      ]
     },
     "execution_count": 6,
     "metadata": {},
     "output_type": "execute_result"
    }
   ],
   "source": [
    "# Series의 인덱스 확인\n",
    "population.index"
   ]
  },
  {
   "cell_type": "code",
   "execution_count": 7,
   "id": "8396837c",
   "metadata": {},
   "outputs": [
    {
     "data": {
      "text/plain": [
       "dtype('int64')"
      ]
     },
     "execution_count": 7,
     "metadata": {},
     "output_type": "execute_result"
    }
   ],
   "source": [
    "# Series의 타입 확인\n",
    "population.dtype"
   ]
  },
  {
   "cell_type": "code",
   "execution_count": 9,
   "id": "4f369336",
   "metadata": {},
   "outputs": [
    {
     "data": {
      "text/plain": [
       "도시\n",
       "서울    9668465\n",
       "부산    3391946\n",
       "인천    2942828\n",
       "광주    1450062\n",
       "Name: 인구, dtype: int64"
      ]
     },
     "execution_count": 9,
     "metadata": {},
     "output_type": "execute_result"
    }
   ],
   "source": [
    "population.name=\"인구\"          # Series에 이름을 지정해주기\n",
    "population.index.name=\"도시\"    # Series의 인덱스에 이름을 지정해주기\n",
    "population"
   ]
  },
  {
   "cell_type": "code",
   "execution_count": 10,
   "id": "ef34f8c7",
   "metadata": {},
   "outputs": [
    {
     "data": {
      "text/plain": [
       "도시\n",
       "서울    9.668465\n",
       "부산    3.391946\n",
       "인천    2.942828\n",
       "광주    1.450062\n",
       "Name: 인구, dtype: float64"
      ]
     },
     "execution_count": 10,
     "metadata": {},
     "output_type": "execute_result"
    }
   ],
   "source": [
    "#Series 연산\n",
    "population/1000000"
   ]
  },
  {
   "cell_type": "code",
   "execution_count": 13,
   "id": "e2c8a019",
   "metadata": {},
   "outputs": [
    {
     "data": {
      "text/plain": [
       "1450062"
      ]
     },
     "execution_count": 13,
     "metadata": {},
     "output_type": "execute_result"
    }
   ],
   "source": [
    "#Series 인덱싱, 슬라이싱\n",
    "population[3]  \n",
    "# population의 3번째 인덱스에 해당하는 1450062가 나옵니다."
   ]
  },
  {
   "cell_type": "code",
   "execution_count": 14,
   "id": "eb2eef8d",
   "metadata": {},
   "outputs": [
    {
     "data": {
      "text/plain": [
       "(1450062, 1450062)"
      ]
     },
     "execution_count": 14,
     "metadata": {},
     "output_type": "execute_result"
    }
   ],
   "source": [
    "population[3],population[\"광주\"] \n",
    "# tuple 형태로 반환"
   ]
  },
  {
   "cell_type": "code",
   "execution_count": 16,
   "id": "f09556c0",
   "metadata": {},
   "outputs": [
    {
     "data": {
      "text/plain": [
       "도시\n",
       "서울    9668465\n",
       "광주    1450062\n",
       "부산    3391946\n",
       "Name: 인구, dtype: int64"
      ]
     },
     "execution_count": 16,
     "metadata": {},
     "output_type": "execute_result"
    }
   ],
   "source": [
    "population[[0,3,1]]  \n",
    "# population라는 시리즈에서 0번째, 3번째, 1번째에 해당되는 행을 차례대로 출력\n",
    "# 단, 가장 바깥쪽 대괄호 안에 한개의 list형으로 써야 함."
   ]
  },
  {
   "cell_type": "code",
   "execution_count": 18,
   "id": "c8d74c96",
   "metadata": {},
   "outputs": [
    {
     "data": {
      "text/plain": [
       "도시\n",
       "서울    9668465\n",
       "광주    1450062\n",
       "부산    3391946\n",
       "Name: 인구, dtype: int64"
      ]
     },
     "execution_count": 18,
     "metadata": {},
     "output_type": "execute_result"
    }
   ],
   "source": [
    "population[[\"서울\",\"광주\",\"부산\"]]\n",
    "# 이 코드도 마찬가지로 서울, 광주,부산 인덱스에 해당되는 행을 차례대로 출력\n",
    "# 마찬가지로 가장 바깥쪽 대괄호 안에 한개의 list형으로 써야 함."
   ]
  },
  {
   "cell_type": "code",
   "execution_count": 22,
   "id": "ea5ae45f",
   "metadata": {},
   "outputs": [
    {
     "data": {
      "text/plain": [
       "서울     True\n",
       "부산     True\n",
       "인천     True\n",
       "광주    False\n",
       "dtype: bool"
      ]
     },
     "execution_count": 22,
     "metadata": {},
     "output_type": "execute_result"
    }
   ],
   "source": [
    "population>=2500000\n",
    "# 인구수가 250만이 이상인 행에 대해서만 True, 그렇지 않으면 False 반환"
   ]
  },
  {
   "cell_type": "code",
   "execution_count": 28,
   "id": "2d1fb9dc",
   "metadata": {},
   "outputs": [
    {
     "data": {
      "text/plain": [
       "서울    9668465\n",
       "부산    3391946\n",
       "인천    2942828\n",
       "dtype: int64"
      ]
     },
     "execution_count": 28,
     "metadata": {},
     "output_type": "execute_result"
    }
   ],
   "source": [
    "population[population>=2500000]\n",
    "#population[[True,True,True,False]]와 같다."
   ]
  },
  {
   "cell_type": "code",
   "execution_count": 29,
   "id": "5206fda8",
   "metadata": {},
   "outputs": [
    {
     "data": {
      "text/plain": [
       "부산    3391946\n",
       "인천    2942828\n",
       "dtype: int64"
      ]
     },
     "execution_count": 29,
     "metadata": {},
     "output_type": "execute_result"
    }
   ],
   "source": [
    "#인구 수가 250만 이상 500만 이하의 도시는?  >>> and 연산임.\n",
    "population[population>=2500000][population<=5000000]"
   ]
  },
  {
   "cell_type": "code",
   "execution_count": 30,
   "id": "1d916e3b",
   "metadata": {},
   "outputs": [
    {
     "data": {
      "text/plain": [
       "부산    3391946\n",
       "인천    2942828\n",
       "dtype: int64"
      ]
     },
     "execution_count": 30,
     "metadata": {},
     "output_type": "execute_result"
    }
   ],
   "source": [
    "#인구 수가 250만 이상 500만 이하의 도시는?  >>> and 연산임. \n",
    "population[(population>=2500000)&(population<=5000000)]"
   ]
  },
  {
   "cell_type": "code",
   "execution_count": 31,
   "id": "90b43566",
   "metadata": {},
   "outputs": [
    {
     "data": {
      "text/plain": [
       "부산    3391946\n",
       "인천    2942828\n",
       "dtype: int64"
      ]
     },
     "execution_count": 31,
     "metadata": {},
     "output_type": "execute_result"
    }
   ],
   "source": [
    "#Series 슬라이싱\n",
    "population[1:3] #Series 중, 1번 행부터 3번행 미만까지 가져옴"
   ]
  },
  {
   "cell_type": "code",
   "execution_count": 32,
   "id": "7e2506e0",
   "metadata": {},
   "outputs": [
    {
     "data": {
      "text/plain": [
       "부산    3391946\n",
       "인천    2942828\n",
       "dtype: int64"
      ]
     },
     "execution_count": 32,
     "metadata": {},
     "output_type": "execute_result"
    }
   ],
   "source": [
    "population[\"부산\":\"인천\"] #Series 중, \"부산\"인덱스부터 \"인천\"인덱스까지 가져옴"
   ]
  },
  {
   "cell_type": "code",
   "execution_count": 33,
   "id": "1ae156bf",
   "metadata": {},
   "outputs": [
    {
     "data": {
      "text/plain": [
       "피카츄     9631\n",
       "꼬부기     3393\n",
       "파이리     1490\n",
       "이상해씨    2632\n",
       "dtype: int64"
      ]
     },
     "execution_count": 33,
     "metadata": {},
     "output_type": "execute_result"
    }
   ],
   "source": [
    "#Dictionary객체로 Series 생성\n",
    "data={\"피카츄\":9631,\"꼬부기\":3393,\"파이리\":1490,\"이상해씨\":2632}\n",
    "pokemon=pd.Series(data)\n",
    "pokemon "
   ]
  },
  {
   "cell_type": "code",
   "execution_count": 34,
   "id": "980ed2fe",
   "metadata": {},
   "outputs": [
    {
     "data": {
      "text/plain": [
       "피카츄    9904\n",
       "꼬부기    3448\n",
       "이브이    2466\n",
       "뮤      2890\n",
       "dtype: int64"
      ]
     },
     "execution_count": 34,
     "metadata": {},
     "output_type": "execute_result"
    }
   ],
   "source": [
    "data2={\"피카츄\":9904,\"꼬부기\":3448,\"이브이\":2466,\"뮤\":2890}\n",
    "pokemon_up=pd.Series(data2)\n",
    "pokemon_up"
   ]
  },
  {
   "cell_type": "code",
   "execution_count": 39,
   "id": "c33faeea",
   "metadata": {},
   "outputs": [
    {
     "data": {
      "text/plain": [
       "꼬부기      55.0\n",
       "뮤         NaN\n",
       "이브이       NaN\n",
       "이상해씨      NaN\n",
       "파이리       NaN\n",
       "피카츄     273.0\n",
       "dtype: float64"
      ]
     },
     "execution_count": 39,
     "metadata": {},
     "output_type": "execute_result"
    }
   ],
   "source": [
    "attack=pokemon_up-pokemon \n",
    "# 뮤 / 이브이 / 이상해씨 / 파이리는 \"pokemon_up\"과 \n",
    "#\"pokemon\"간에 매칭되는 인덱스가 아니기 때문에 NaN이 뜹니다.\n",
    "attack"
   ]
  },
  {
   "cell_type": "code",
   "execution_count": 40,
   "id": "54abb303",
   "metadata": {},
   "outputs": [
    {
     "data": {
      "text/plain": [
       "꼬부기      True\n",
       "뮤       False\n",
       "이브이     False\n",
       "이상해씨    False\n",
       "파이리     False\n",
       "피카츄      True\n",
       "dtype: bool"
      ]
     },
     "execution_count": 40,
     "metadata": {},
     "output_type": "execute_result"
    }
   ],
   "source": [
    "attack.notnull()  #\"attack\" Series에서 null값이 아닌 것들만 True로 만듬"
   ]
  },
  {
   "cell_type": "code",
   "execution_count": 41,
   "id": "2d37b785",
   "metadata": {},
   "outputs": [
    {
     "data": {
      "text/plain": [
       "꼬부기     55.0\n",
       "피카츄    273.0\n",
       "dtype: float64"
      ]
     },
     "execution_count": 41,
     "metadata": {},
     "output_type": "execute_result"
    }
   ],
   "source": [
    "attack[attack.notnull()]  # \"attack\" Series에서 null값이 아닌 것들만 추출함. "
   ]
  },
  {
   "cell_type": "code",
   "execution_count": 42,
   "id": "1bf89eb0",
   "metadata": {},
   "outputs": [
    {
     "data": {
      "text/plain": [
       "꼬부기       55.0\n",
       "뮤          NaN\n",
       "이브이        NaN\n",
       "이상해씨       NaN\n",
       "파이리     1616.0\n",
       "피카츄      273.0\n",
       "리자몽     8888.0\n",
       "dtype: float64"
      ]
     },
     "execution_count": 42,
     "metadata": {},
     "output_type": "execute_result"
    }
   ],
   "source": [
    "attack[\"파이리\"]=1616    #Series에 데이터 갱신   >> 이미 attack 시리즈에 \n",
    "                         #                      \"파이리\"인덱스가 존재해서\n",
    "attack[\"리자몽\"]=8888    #Series에 데이터 추가 >> attack 시리즈에 \"리자몽\"없음\n",
    "attack\n"
   ]
  },
  {
   "cell_type": "code",
   "execution_count": 43,
   "id": "45f48025",
   "metadata": {},
   "outputs": [
    {
     "data": {
      "text/plain": [
       "꼬부기      55.0\n",
       "뮤         NaN\n",
       "이브이       NaN\n",
       "파이리    1616.0\n",
       "피카츄     273.0\n",
       "리자몽    8888.0\n",
       "dtype: float64"
      ]
     },
     "execution_count": 43,
     "metadata": {},
     "output_type": "execute_result"
    }
   ],
   "source": [
    "del attack[\"이상해씨\"]   #Series에 있는 데이터 삭제\n",
    "attack"
   ]
  }
 ],
 "metadata": {
  "kernelspec": {
   "display_name": "Python 3 (ipykernel)",
   "language": "python",
   "name": "python3"
  },
  "language_info": {
   "codemirror_mode": {
    "name": "ipython",
    "version": 3
   },
   "file_extension": ".py",
   "mimetype": "text/x-python",
   "name": "python",
   "nbconvert_exporter": "python",
   "pygments_lexer": "ipython3",
   "version": "3.9.12"
  }
 },
 "nbformat": 4,
 "nbformat_minor": 5
}
