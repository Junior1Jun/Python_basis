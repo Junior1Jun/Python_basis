{
 "cells": [
  {
   "cell_type": "code",
   "execution_count": 2,
   "id": "0fd803bf",
   "metadata": {
    "scrolled": true
   },
   "outputs": [
    {
     "name": "stdout",
     "output_type": "stream",
     "text": [
      "3.9.12\n"
     ]
    }
   ],
   "source": [
    "# 현재 파이썬 버젼 확인하기\n",
    "import platform\n",
    "print(platform.python_version())"
   ]
  },
  {
   "cell_type": "code",
   "execution_count": 1,
   "id": "f8a6f2aa",
   "metadata": {},
   "outputs": [],
   "source": [
    "from random import random"
   ]
  },
  {
   "cell_type": "code",
   "execution_count": 2,
   "id": "2b1544fc",
   "metadata": {
    "scrolled": true
   },
   "outputs": [
    {
     "data": {
      "text/plain": [
       "0.18422674929559313"
      ]
     },
     "execution_count": 2,
     "metadata": {},
     "output_type": "execute_result"
    }
   ],
   "source": [
    "random()"
   ]
  },
  {
   "cell_type": "markdown",
   "id": "51f362a8",
   "metadata": {},
   "source": [
    "## 클래스 JSS선언\n",
    "- \"def --init--(self)\"에서 클래스가 어떤 속성을 가지는지 정의함.\n",
    "- \"show()\"라는 메서드를 정의함."
   ]
  },
  {
   "cell_type": "code",
   "execution_count": 14,
   "id": "cece99f6",
   "metadata": {},
   "outputs": [],
   "source": [
    "class JSS:                                                # 클래스 이름 선언\n",
    "    def __init__(self):                                   # \n",
    "        self.name = input(\"이름 : \")\n",
    "        self.age = input(\"나이 : \")\n",
    "        return print(\"JSS에 오신것을 환영\")\n",
    "    def show(self, a =2):\n",
    "        if a==0:\n",
    "            self.result = self.name\n",
    "        elif a ==1:\n",
    "            self.result = self.age\n",
    "        else:\n",
    "            self.result = (self.name,self.age)\n",
    "        return self.result"
   ]
  },
  {
   "cell_type": "markdown",
   "id": "ff8abcb0",
   "metadata": {},
   "source": [
    "### 클래스 JSS의 객체 jss 만들기"
   ]
  },
  {
   "cell_type": "code",
   "execution_count": 15,
   "id": "32ce6373",
   "metadata": {},
   "outputs": [
    {
     "name": "stdout",
     "output_type": "stream",
     "text": [
      "이름 : 정준수\n",
      "나이 : 27\n",
      "JSS에 오신것을 환영\n"
     ]
    }
   ],
   "source": [
    "jss=JSS()"
   ]
  },
  {
   "cell_type": "markdown",
   "id": "744ae168",
   "metadata": {},
   "source": [
    "### JSS클래스의 객체 jss 내에 정의된 메서드인 show()를 사용하여 이름, 나이 출력"
   ]
  },
  {
   "cell_type": "code",
   "execution_count": 16,
   "id": "4b325130",
   "metadata": {
    "scrolled": true
   },
   "outputs": [
    {
     "data": {
      "text/plain": [
       "'정준수'"
      ]
     },
     "execution_count": 16,
     "metadata": {},
     "output_type": "execute_result"
    }
   ],
   "source": [
    "jss.show(0)"
   ]
  },
  {
   "cell_type": "code",
   "execution_count": 17,
   "id": "57347e54",
   "metadata": {},
   "outputs": [
    {
     "data": {
      "text/plain": [
       "'27'"
      ]
     },
     "execution_count": 17,
     "metadata": {},
     "output_type": "execute_result"
    }
   ],
   "source": [
    "jss.show(1)"
   ]
  },
  {
   "cell_type": "code",
   "execution_count": 19,
   "id": "59e0a252",
   "metadata": {},
   "outputs": [
    {
     "data": {
      "text/plain": [
       "('정준수', '27')"
      ]
     },
     "execution_count": 19,
     "metadata": {},
     "output_type": "execute_result"
    }
   ],
   "source": [
    "jss.show(2)"
   ]
  },
  {
   "cell_type": "markdown",
   "id": "092217dd",
   "metadata": {},
   "source": [
    "## JSS 클래스의 자식 클래스 JSS2 생성"
   ]
  },
  {
   "cell_type": "code",
   "execution_count": 2,
   "id": "b66be0d4",
   "metadata": {},
   "outputs": [],
   "source": [
    "class JSS2(JSS):\n",
    "    def __init__(self):\n",
    "        super().__init__()\n",
    "        self.gender = input(\"성별을 입력하세요 : \")\n",
    "    \n",
    "    def show2(self, a=3):\n",
    "        if a==0:\n",
    "            self.result = self.name\n",
    "        elif a== 1:\n",
    "            self.result = self.age\n",
    "        elif a==2:\n",
    "            self.result = self.gender\n",
    "        else:\n",
    "            self.result = (self.name,self.age,self.gender)\n",
    "        return self.result"
   ]
  }
 ],
 "metadata": {
  "kernelspec": {
   "display_name": "Python 3 (ipykernel)",
   "language": "python",
   "name": "python3"
  },
  "language_info": {
   "codemirror_mode": {
    "name": "ipython",
    "version": 3
   },
   "file_extension": ".py",
   "mimetype": "text/x-python",
   "name": "python",
   "nbconvert_exporter": "python",
   "pygments_lexer": "ipython3",
   "version": "3.9.12"
  }
 },
 "nbformat": 4,
 "nbformat_minor": 5
}
